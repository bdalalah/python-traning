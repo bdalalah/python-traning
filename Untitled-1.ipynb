{
 "cells": [
  {
   "cell_type": "code",
   "execution_count": 3,
   "metadata": {},
   "outputs": [
    {
     "name": "stdout",
     "output_type": "stream",
     "text": [
      "Hello python!\n",
      "_______________________________\n"
     ]
    }
   ],
   "source": [
    "#Complete the code to print out Hello Python! in a formatted string.\n",
    "\n",
    "#message = \"Python\"\n",
    "#Greeting = None\n",
    "#print(Greeting)\n",
    "     \n",
    "\n",
    "message = \"python\"\n",
    "Greeting = f\"Hello {message}!\" \n",
    "\n",
    "print (Greeting)\n",
    "print(\"_______________________________\")"
   ]
  },
  {
   "cell_type": "code",
   "execution_count": 11,
   "metadata": {},
   "outputs": [
    {
     "name": "stdout",
     "output_type": "stream",
     "text": [
      "15\n",
      "The concatenation results is  510\n"
     ]
    }
   ],
   "source": [
    "\n",
    "#Perform the arithmetic operation on a and b.\n",
    "#Perform concatenation on a and b.\n",
    "\n",
    "a = 5\n",
    "b = \"10\"\n",
    "\n",
    "# perform addition expected output is 15\n",
    "addition = a + int(b)\n",
    "print(addition)\n",
    "\n",
    "# perform concatenation expected output is 510\n",
    "concatenation = str(a) + str(b)\n",
    "print(\"The concatenation results is \", concatenation)"
   ]
  },
  {
   "cell_type": "code",
   "execution_count": 15,
   "metadata": {},
   "outputs": [
    {
     "name": "stdout",
     "output_type": "stream",
     "text": [
      "estarta.com\n",
      "_____________________________\n",
      "Domain: estarta.com\n"
     ]
    }
   ],
   "source": [
    "#Complete the code to extract and print out the domain name from the email address.\n",
    "\n",
    "email = \"python_dev@estarta.com\"\n",
    "\n",
    "# extract domain from email\n",
    "domain = email[11:22]\n",
    "print(domain)\n",
    "     \n",
    "print(\"_____________________________\")\n",
    "\n",
    "email = \"python_dev@estarta.com\"\n",
    "\n",
    "# Split the email address from right at '@' to separate the username and domain\n",
    "domain = email.rsplit('@', 1)[-1]\n",
    "\n",
    "# Print the domain name\n",
    "print(\"Domain:\", domain)"
   ]
  },
  {
   "cell_type": "code",
   "execution_count": 19,
   "metadata": {},
   "outputs": [
    {
     "name": "stdout",
     "output_type": "stream",
     "text": [
      "_________________________\n",
      "['Toyota', 'Ford', 'BMW', 'Jeep', 'Honda']\n",
      "['Ford', 'BMW', 'Jeep', 'Honda']\n",
      "False\n"
     ]
    }
   ],
   "source": [
    "\n",
    "\n",
    "#Perform the following operations on the \"Cars\" list:\n",
    "\n",
    "    #Add \"Honda\" to the list.\n",
    "    #Replace the second element with \"Ford\".\n",
    "    #Remove \"Toyota\" from the list.\n",
    "    #Check if \"Subaru\" is in the list.\n",
    "\n",
    "\n",
    "cars = [\"Toyota\", \"Mercedes\", \"BMW\", \"Jeep\"]\n",
    "\n",
    "# add \"Honda\" to the list\n",
    "\n",
    "cars.append(\"Honda\")\n",
    "\n",
    "print(\"_________________________\")\n",
    "\n",
    "#new_list = [\"Honda\"]\n",
    "#cars.extend(new_list)\n",
    "#print(cars)\n",
    "\n",
    "# replace the second element with \"Ford\"\n",
    "\n",
    "cars[1] = \"Ford\"\n",
    "\n",
    "print (cars)\n",
    "\n",
    "# remove Toyota from the list\n",
    "\n",
    "if \"Toyota\" in cars:\n",
    "    cars.remove(\"Toyota\")\n",
    "\n",
    "\n",
    "print(cars)\n",
    "\n",
    "# print True if Subaru is in the list else False\n",
    "\n",
    "print(\"Subaru\" in cars)"
   ]
  },
  {
   "cell_type": "code",
   "execution_count": 20,
   "metadata": {},
   "outputs": [
    {
     "name": "stdout",
     "output_type": "stream",
     "text": [
      "{'name': 'Ahmad', 'age': 25, 'occupation': 'doctor', 'country': 'Jordan'}\n",
      "{'name': 'Ahmad', 'age': 25, 'occupation': 'doctor', 'country': 'Jordan', 'city': 'Amman'}\n",
      "{'name': 'Ahmad', 'age': 25, 'occupation': 'Surgeon', 'city': 'Amman'}\n"
     ]
    }
   ],
   "source": [
    "#Complete the code to do the following:\n",
    "\"\"\"\n",
    "    Create a new dictionary with the following key-value pairs: \"name\": \"Ahmad\", \"age\": 25, \"occupation\": \"doctor\", \"country\": \"Jordan\"\n",
    "    Add a new key-value pair with \"city\": \"Amman\"\n",
    "    Update the occupation to \"Surgeon\"\n",
    "    Remove the \"country\" key-value pair from the dictionary.\n",
    "    print out the updated dictionary.\n",
    "\n",
    "\"\"\"\n",
    "\n",
    "# complete the code to perform the operations listed above\n",
    "person = {\"name\": \"Ahmad\", \"age\": 25, \"occupation\": \"doctor\", \"country\": \"Jordan\"}\n",
    "\n",
    "print(person)\n",
    "\n",
    "# Add a new key-value pair with \"city\": \"Amman\"\n",
    "person[\"city\"] = \"Amman\"\n",
    "\n",
    "print(person)\n",
    "     \n",
    "# Update the occupation to \"Surgeon\"\n",
    "person[\"occupation\"] = \"Surgeon\"\n",
    "\n",
    "# Remove the \"country\" key-value pair from the dictionary\n",
    "\n",
    "if \"country\" in person:\n",
    "    del person[\"country\"]\n",
    "\n",
    "# Print out the updated dictionary\n",
    "\n",
    "print(person)\n"
   ]
  },
  {
   "cell_type": "code",
   "execution_count": 23,
   "metadata": {},
   "outputs": [
    {
     "name": "stdout",
     "output_type": "stream",
     "text": [
      "False\n",
      "{1, 2, 3, 5, 7, 8, 9, 16}\n",
      "{1, 2, 5, 7, 8, 9, 16}\n",
      "{1, 2, 5, 7, 8, 9, 16}\n",
      "{17, 18, 19, 20, 21, 22, 23, 24, 25, 26}\n",
      "Updated numbers set: {1, 2, 5, 7, 8, 9, 16}\n",
      "Union of numbers and new_set: {1, 2, 5, 7, 8, 9, 16, 17, 18, 19, 20, 21, 22, 23, 24, 25, 26}\n"
     ]
    }
   ],
   "source": [
    "'''\n",
    "Complete the folowing opertasions on the \"numbers\" set:\n",
    "\n",
    "    Check if 4 is in the set.\n",
    "    Add 5 to the set.\n",
    "    Remove 3 from the set.\n",
    "    Try to add a duplicate element to the set.\n",
    "    Create a new set that contains numbers from in the range of m+1 to m+10, where m is the maximum number in the \"numbers\" set.\n",
    "    Create a set that is the union of the two sets.\n",
    "\n",
    "\n",
    "numbers = {2, 5, 16, 8, 7, 9, 3, 1}\n",
    "\n",
    "# your code here\n",
    "\n",
    "print(numbers)\n",
    "# print the union of the two sets\n",
    "#print(new_set)\n",
    "     \n",
    "     '''\n",
    "\n",
    "\n",
    "numbers = {2, 5, 16, 8, 7, 9, 3, 1}\n",
    "\n",
    "# Check if 4 is in the set\n",
    "\n",
    "print(4 in numbers)\n",
    "\n",
    "# Add 5 to the set\n",
    "numbers.add(5)\n",
    "\n",
    "print(numbers)\n",
    "\n",
    "# Remove 3 from the set\n",
    "numbers.remove(3)\n",
    "\n",
    "print (numbers)\n",
    "\n",
    "# Try to add a duplicate element to the set (no effect since sets do not allow duplicates)\n",
    "numbers.add(5)\n",
    "\n",
    "print(numbers)\n",
    "\n",
    "# Create a new set that contains numbers from m+1 to m+10, where m is the maximum number in the \"numbers\" set\n",
    "m = max(numbers)\n",
    "new_set = {m + i for i in range(1, 11)}\n",
    "\n",
    "print(new_set)\n",
    "\n",
    "# Create a set that is the union of the two sets\n",
    "union_set = numbers.union(new_set)\n",
    "\n",
    "# Print the updated numbers set\n",
    "print(\"Updated numbers set:\", numbers)\n",
    "\n",
    "# Print the union of the two sets\n",
    "print(\"Union of numbers and new_set:\", union_set)"
   ]
  }
 ],
 "metadata": {
  "kernelspec": {
   "display_name": "Python 3",
   "language": "python",
   "name": "python3"
  },
  "language_info": {
   "codemirror_mode": {
    "name": "ipython",
    "version": 3
   },
   "file_extension": ".py",
   "mimetype": "text/x-python",
   "name": "python",
   "nbconvert_exporter": "python",
   "pygments_lexer": "ipython3",
   "version": "3.12.3"
  }
 },
 "nbformat": 4,
 "nbformat_minor": 2
}
